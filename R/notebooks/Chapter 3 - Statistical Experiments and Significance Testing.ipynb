{
 "cells": [
  {
   "cell_type": "markdown",
   "metadata": {},
   "source": [
    "# Practical Statistics for Data Scientists (R)\n",
    "# Chapter 3. Statistial Experiments and Significance Testing\n",
    "> (c) 2019 Peter C. Bruce, Andrew Bruce, Peter Gedeck"
   ]
  },
  {
   "cell_type": "markdown",
   "metadata": {},
   "source": [
    "Import required R packages."
   ]
  },
  {
   "cell_type": "code",
   "execution_count": 1,
   "metadata": {
    "execution": {
     "iopub.execute_input": "2021-07-31T15:52:17.334333Z",
     "iopub.status.busy": "2021-07-31T15:52:17.331619Z",
     "iopub.status.idle": "2021-07-31T15:52:17.358149Z",
     "shell.execute_reply": "2021-07-31T15:52:17.356906Z"
    }
   },
   "outputs": [],
   "source": [
    "# lmPerm is available from CRAN\n",
    "# conda install r-devtools\n",
    "# devtools::install_github('mtorchiano/lmPerm')"
   ]
  },
  {
   "cell_type": "code",
   "execution_count": 2,
   "metadata": {
    "execution": {
     "iopub.execute_input": "2021-07-31T15:52:17.388232Z",
     "iopub.status.busy": "2021-07-31T15:52:17.361681Z",
     "iopub.status.idle": "2021-07-31T15:52:17.690046Z",
     "shell.execute_reply": "2021-07-31T15:52:17.689182Z"
    }
   },
   "outputs": [
    {
     "name": "stderr",
     "output_type": "stream",
     "text": [
      "\n",
      "Attaching package: ‘dplyr’\n",
      "\n",
      "\n"
     ]
    },
    {
     "name": "stderr",
     "output_type": "stream",
     "text": [
      "The following objects are masked from ‘package:stats’:\n",
      "\n",
      "    filter, lag\n",
      "\n",
      "\n"
     ]
    },
    {
     "name": "stderr",
     "output_type": "stream",
     "text": [
      "The following objects are masked from ‘package:base’:\n",
      "\n",
      "    intersect, setdiff, setequal, union\n",
      "\n",
      "\n"
     ]
    }
   ],
   "source": [
    "library(ggplot2)\n",
    "library(dplyr)\n",
    "library(lmPerm)\n",
    "library(pwr)"
   ]
  },
  {
   "cell_type": "markdown",
   "metadata": {},
   "source": [
    "Define paths to data sets. If you don't keep your data in the same directory as the code, adapt the path names."
   ]
  },
  {
   "cell_type": "code",
   "execution_count": 3,
   "metadata": {
    "execution": {
     "iopub.execute_input": "2021-07-31T15:52:17.694558Z",
     "iopub.status.busy": "2021-07-31T15:52:17.693481Z",
     "iopub.status.idle": "2021-07-31T15:52:17.721555Z",
     "shell.execute_reply": "2021-07-31T15:52:17.720660Z"
    }
   },
   "outputs": [],
   "source": [
    "PSDS_PATH <- file.path(dirname(dirname(getwd())))\n",
    "\n",
    "\n",
    "session_times <- read.csv(file.path(PSDS_PATH, 'data', 'web_page_data.csv'))\n",
    "session_times[,2] <- session_times[,2] * 100\n",
    "four_sessions  <- read.csv(file.path(PSDS_PATH, 'data', 'four_sessions.csv'))\n",
    "click_rate <-  read.csv(file.path(PSDS_PATH, 'data', 'click_rates.csv'))\n",
    "imanishi <-  read.csv(file.path(PSDS_PATH, 'data', 'imanishi_data.csv'))"
   ]
  },
  {
   "cell_type": "markdown",
   "metadata": {},
   "source": [
    "# Resampling\n",
    "## Example: Web Stickiness"
   ]
  },
  {
   "cell_type": "code",
   "execution_count": 4,
   "metadata": {
    "execution": {
     "iopub.execute_input": "2021-07-31T15:52:17.725221Z",
     "iopub.status.busy": "2021-07-31T15:52:17.724234Z",
     "iopub.status.idle": "2021-07-31T15:52:17.946454Z",
     "shell.execute_reply": "2021-07-31T15:52:17.945655Z"
    },
    "scrolled": false
   },
   "outputs": [
    {
     "data": {
      "image/png": "[encoded data removed]",
      "text/plain": [
       "plot without title"
      ]
     },
     "metadata": {
      "image/png": {
       "height": 420,
       "width": 420
      }
     },
     "output_type": "display_data"
    }
   ],
   "source": [
    "graph <- ggplot(session_times, aes(x=Page, y=Time)) + \n",
    "  geom_boxplot() +\n",
    "  labs(y='Time (in seconds)') + \n",
    "  theme_bw()\n",
    "graph"
   ]
  },
  {
   "cell_type": "code",
   "execution_count": 5,
   "metadata": {
    "execution": {
     "iopub.execute_input": "2021-07-31T15:52:17.950628Z",
     "iopub.status.busy": "2021-07-31T15:52:17.949617Z",
     "iopub.status.idle": "2021-07-31T15:52:17.964297Z",
     "shell.execute_reply": "2021-07-31T15:52:17.963385Z"
    }
   },
   "outputs": [
    {
     "data": {
      "text/html": [
       "35.6666666666667"
      ],
      "text/latex": [
       "35.6666666666667"
      ],
      "text/markdown": [
       "35.6666666666667"
      ],
      "text/plain": [
       "[1] 35.66667"
      ]
     },
     "metadata": {},
     "output_type": "display_data"
    }
   ],
   "source": [
    "mean_a <- mean(session_times[session_times['Page'] == 'Page A', 'Time'])\n",
    "mean_b <- mean(session_times[session_times['Page'] == 'Page B', 'Time'])\n",
    "mean_b - mean_a"
   ]
  },
  {
   "cell_type": "code",
   "execution_count": 6,
   "metadata": {
    "execution": {
     "iopub.execute_input": "2021-07-31T15:52:17.968389Z",
     "iopub.status.busy": "2021-07-31T15:52:17.967398Z",
     "iopub.status.idle": "2021-07-31T15:52:17.976383Z",
     "shell.execute_reply": "2021-07-31T15:52:17.975408Z"
    }
   },
   "outputs": [],
   "source": [
    "## Permutation test example with stickiness\n",
    "perm_fun <- function(x, nA, nB)\n",
    "{\n",
    "  n <- nA + nB\n",
    "  idx_b <- sample(1:n, nB)\n",
    "  idx_a <- setdiff(1:n, idx_b)\n",
    "  mean_diff <- mean(x[idx_b]) - mean(x[idx_a])\n",
    "  return(mean_diff)\n",
    "}"
   ]
  },
  {
   "cell_type": "code",
   "execution_count": 7,
   "metadata": {
    "execution": {
     "iopub.execute_input": "2021-07-31T15:52:17.980619Z",
     "iopub.status.busy": "2021-07-31T15:52:17.979551Z",
     "iopub.status.idle": "2021-07-31T15:52:18.098492Z",
     "shell.execute_reply": "2021-07-31T15:52:18.097650Z"
    }
   },
   "outputs": [
    {
     "data": {
      "image/png": "[encoded data removed]",
      "text/plain": [
       "Plot with title “”"
      ]
     },
     "metadata": {
      "image/png": {
       "height": 420,
       "width": 420
      }
     },
     "output_type": "display_data"
    }
   ],
   "source": [
    "perm_diffs <- rep(0, 1000)\n",
    "for (i in 1:1000) {\n",
    "  perm_diffs[i] = perm_fun(session_times[, 'Time'], 21, 15)\n",
    "}\n",
    "par(mar=c(4,4,1,0)+.1)\n",
    "hist(perm_diffs, xlab='Session time differences (in seconds)', main='')\n",
    "abline(v=mean_b - mean_a, lty=2, lwd=1.5)\n",
    "text('  Observed\\n  difference', x=mean_b - mean_a,  y=par()$usr[4]-20, adj=0)"
   ]
  },
  {
   "cell_type": "code",
   "execution_count": 8,
   "metadata": {
    "execution": {
     "iopub.execute_input": "2021-07-31T15:52:18.102632Z",
     "iopub.status.busy": "2021-07-31T15:52:18.101540Z",
     "iopub.status.idle": "2021-07-31T15:52:18.112556Z",
     "shell.execute_reply": "2021-07-31T15:52:18.111521Z"
    }
   },
   "outputs": [
    {
     "data": {
      "text/html": [
       "0.123"
      ],
      "text/latex": [
       "0.123"
      ],
      "text/markdown": [
       "0.123"
      ],
      "text/plain": [
       "[1] 0.123"
      ]
     },
     "metadata": {},
     "output_type": "display_data"
    }
   ],
   "source": [
    "mean(perm_diffs > (mean_b - mean_a))"
   ]
  },
  {
   "cell_type": "markdown",
   "metadata": {},
   "source": [
    "# Statistical Significance and P-Values"
   ]
  },
  {
   "cell_type": "code",
   "execution_count": 9,
   "metadata": {
    "execution": {
     "iopub.execute_input": "2021-07-31T15:52:18.116784Z",
     "iopub.status.busy": "2021-07-31T15:52:18.115781Z",
     "iopub.status.idle": "2021-07-31T15:52:25.619379Z",
     "shell.execute_reply": "2021-07-31T15:52:25.618178Z"
    }
   },
   "outputs": [
    {
     "data": {
      "image/png": "[encoded data removed]",
      "text/plain": [
       "Plot with title “”"
      ]
     },
     "metadata": {
      "image/png": {
       "height": 420,
       "width": 420
      }
     },
     "output_type": "display_data"
    }
   ],
   "source": [
    "obs_pct_diff <- 100 * (200 / 23739 - 182 / 22588)\n",
    "conversion <- c(rep(0, 45945), rep(1, 382))\n",
    "perm_diffs <- rep(0, 1000)\n",
    "for (i in 1:1000) {\n",
    "  perm_diffs[i] = 100 * perm_fun(conversion, 23739, 22588)\n",
    "}\n",
    "\n",
    "hist(perm_diffs, xlab='Conversion rate (percent)', main='')\n",
    "abline(v=obs_pct_diff, lty=2, lwd=1.5)\n",
    "text('   Observed\\n   difference', x=obs_pct_diff,  y=par()$usr[4]-20, adj=0)"
   ]
  },
  {
   "cell_type": "code",
   "execution_count": 10,
   "metadata": {
    "execution": {
     "iopub.execute_input": "2021-07-31T15:52:25.623871Z",
     "iopub.status.busy": "2021-07-31T15:52:25.622821Z",
     "iopub.status.idle": "2021-07-31T15:52:25.632964Z",
     "shell.execute_reply": "2021-07-31T15:52:25.631953Z"
    }
   },
   "outputs": [
    {
     "data": {
      "text/html": [
       "0.0367579118205928"
      ],
      "text/latex": [
       "0.0367579118205928"
      ],
      "text/markdown": [
       "0.0367579118205928"
      ],
      "text/plain": [
       "[1] 0.03675791"
      ]
     },
     "metadata": {},
     "output_type": "display_data"
    }
   ],
   "source": [
    "# Obbserved difference\n",
    "obs_pct_diff"
   ]
  },
  {
   "cell_type": "markdown",
   "metadata": {},
   "source": [
    "## P-Value"
   ]
  },
  {
   "cell_type": "code",
   "execution_count": 11,
   "metadata": {
    "execution": {
     "iopub.execute_input": "2021-07-31T15:52:25.637909Z",
     "iopub.status.busy": "2021-07-31T15:52:25.636253Z",
     "iopub.status.idle": "2021-07-31T15:52:25.647909Z",
     "shell.execute_reply": "2021-07-31T15:52:25.646556Z"
    }
   },
   "outputs": [
    {
     "data": {
      "text/html": [
       "0.318"
      ],
      "text/latex": [
       "0.318"
      ],
      "text/markdown": [
       "0.318"
      ],
      "text/plain": [
       "[1] 0.318"
      ]
     },
     "metadata": {},
     "output_type": "display_data"
    }
   ],
   "source": [
    "mean(perm_diffs > obs_pct_diff)"
   ]
  },
  {
   "cell_type": "code",
   "execution_count": 12,
   "metadata": {
    "execution": {
     "iopub.execute_input": "2021-07-31T15:52:25.651969Z",
     "iopub.status.busy": "2021-07-31T15:52:25.650927Z",
     "iopub.status.idle": "2021-07-31T15:52:25.663971Z",
     "shell.execute_reply": "2021-07-31T15:52:25.663116Z"
    }
   },
   "outputs": [
    {
     "data": {
      "text/plain": [
       "\n",
       "\t2-sample test for equality of proportions with continuity correction\n",
       "\n",
       "data:  c(200, 182) out of c(23739, 22588)\n",
       "X-squared = 0.14893, df = 1, p-value = 0.3498\n",
       "alternative hypothesis: greater\n",
       "95 percent confidence interval:\n",
       " -0.001057439  1.000000000\n",
       "sample estimates:\n",
       "     prop 1      prop 2 \n",
       "0.008424955 0.008057376 \n"
      ]
     },
     "metadata": {},
     "output_type": "display_data"
    }
   ],
   "source": [
    "prop.test(x=c(200,182), n=c(23739,22588), alternative='greater')"
   ]
  },
  {
   "cell_type": "markdown",
   "metadata": {},
   "source": [
    "# t-Tests"
   ]
  },
  {
   "cell_type": "code",
   "execution_count": 13,
   "metadata": {
    "execution": {
     "iopub.execute_input": "2021-07-31T15:52:25.667875Z",
     "iopub.status.busy": "2021-07-31T15:52:25.666833Z",
     "iopub.status.idle": "2021-07-31T15:52:25.679801Z",
     "shell.execute_reply": "2021-07-31T15:52:25.678738Z"
    }
   },
   "outputs": [
    {
     "data": {
      "text/plain": [
       "\n",
       "\tWelch Two Sample t-test\n",
       "\n",
       "data:  Time by Page\n",
       "t = -1.0983, df = 27.693, p-value = 0.1408\n",
       "alternative hypothesis: true difference in means is less than 0\n",
       "95 percent confidence interval:\n",
       "     -Inf 19.59674\n",
       "sample estimates:\n",
       "mean in group Page A mean in group Page B \n",
       "            126.3333             162.0000 \n"
      ]
     },
     "metadata": {},
     "output_type": "display_data"
    }
   ],
   "source": [
    "t.test(Time ~ Page, data=session_times, alternative='less')"
   ]
  },
  {
   "cell_type": "markdown",
   "metadata": {},
   "source": [
    "# ANOVA"
   ]
  },
  {
   "cell_type": "code",
   "execution_count": 14,
   "metadata": {
    "execution": {
     "iopub.execute_input": "2021-07-31T15:52:25.683955Z",
     "iopub.status.busy": "2021-07-31T15:52:25.682849Z",
     "iopub.status.idle": "2021-07-31T15:52:25.838886Z",
     "shell.execute_reply": "2021-07-31T15:52:25.837243Z"
    }
   },
   "outputs": [
    {
     "data": {
      "image/png": "[encoded data removed]",
      "text/plain": [
       "plot without title"
      ]
     },
     "metadata": {
      "image/png": {
       "height": 420,
       "width": 420
      }
     },
     "output_type": "display_data"
    }
   ],
   "source": [
    "graph <- ggplot(four_sessions, aes(x=Page, y=Time)) + \n",
    "  geom_boxplot() +\n",
    "  labs(y='Time (in seconds)') +\n",
    "  theme_bw()\n",
    "graph"
   ]
  },
  {
   "cell_type": "code",
   "execution_count": 15,
   "metadata": {
    "execution": {
     "iopub.execute_input": "2021-07-31T15:52:25.842753Z",
     "iopub.status.busy": "2021-07-31T15:52:25.841800Z",
     "iopub.status.idle": "2021-07-31T15:52:25.860898Z",
     "shell.execute_reply": "2021-07-31T15:52:25.859779Z"
    }
   },
   "outputs": [
    {
     "name": "stdout",
     "output_type": "stream",
     "text": [
      "[1] \"Settings:  unique SS \"\n"
     ]
    },
    {
     "data": {
      "text/plain": [
       "Component 1 :\n",
       "            Df R Sum Sq R Mean Sq Iter Pr(Prob)\n",
       "Page1        3    831.4    277.13 3377   0.1028\n",
       "Residuals   16   1618.4    101.15              \n"
      ]
     },
     "metadata": {},
     "output_type": "display_data"
    }
   ],
   "source": [
    "library(lmPerm)\n",
    "summary(aovp(Time ~ Page, data=four_sessions))"
   ]
  },
  {
   "cell_type": "markdown",
   "metadata": {},
   "source": [
    "## F-Statistic"
   ]
  },
  {
   "cell_type": "code",
   "execution_count": 16,
   "metadata": {
    "execution": {
     "iopub.execute_input": "2021-07-31T15:52:25.868500Z",
     "iopub.status.busy": "2021-07-31T15:52:25.867240Z",
     "iopub.status.idle": "2021-07-31T15:52:25.882560Z",
     "shell.execute_reply": "2021-07-31T15:52:25.881526Z"
    }
   },
   "outputs": [
    {
     "data": {
      "text/plain": [
       "            Df Sum Sq Mean Sq F value Pr(>F)  \n",
       "Page         3  831.4   277.1    2.74 0.0776 .\n",
       "Residuals   16 1618.4   101.2                 \n",
       "---\n",
       "Signif. codes:  0 ‘***’ 0.001 ‘**’ 0.01 ‘*’ 0.05 ‘.’ 0.1 ‘ ’ 1"
      ]
     },
     "metadata": {},
     "output_type": "display_data"
    }
   ],
   "source": [
    "summary(aov(Time ~ Page, data=four_sessions))"
   ]
  },
  {
   "cell_type": "markdown",
   "metadata": {},
   "source": [
    "# Chi-Square Test\n",
    "## Chi-Square Test: A Resampling Approach"
   ]
  },
  {
   "cell_type": "code",
   "execution_count": 17,
   "metadata": {
    "execution": {
     "iopub.execute_input": "2021-07-31T15:52:25.886759Z",
     "iopub.status.busy": "2021-07-31T15:52:25.885687Z",
     "iopub.status.idle": "2021-07-31T15:52:25.900129Z",
     "shell.execute_reply": "2021-07-31T15:52:25.899168Z"
    }
   },
   "outputs": [
    {
     "data": {
      "text/plain": [
       "\n",
       "\tPearson's Chi-squared test with simulated p-value (based on 2000\n",
       "\treplicates)\n",
       "\n",
       "data:  clicks\n",
       "X-squared = 1.6659, df = NA, p-value = 0.4833\n"
      ]
     },
     "metadata": {},
     "output_type": "display_data"
    }
   ],
   "source": [
    "clicks <- matrix(click_rate$Rate, nrow=3, ncol=2, byrow=TRUE)\n",
    "dimnames(clicks) <- list(unique(click_rate$Headline), unique(click_rate$Click))\n",
    "\n",
    "chisq.test(clicks, simulate.p.value=TRUE)"
   ]
  },
  {
   "cell_type": "code",
   "execution_count": 18,
   "metadata": {
    "execution": {
     "iopub.execute_input": "2021-07-31T15:52:25.904155Z",
     "iopub.status.busy": "2021-07-31T15:52:25.903056Z",
     "iopub.status.idle": "2021-07-31T15:52:25.916771Z",
     "shell.execute_reply": "2021-07-31T15:52:25.915810Z"
    }
   },
   "outputs": [
    {
     "data": {
      "text/plain": [
       "\n",
       "\tPearson's Chi-squared test\n",
       "\n",
       "data:  clicks\n",
       "X-squared = 1.6659, df = 2, p-value = 0.4348\n"
      ]
     },
     "metadata": {},
     "output_type": "display_data"
    }
   ],
   "source": [
    "chisq.test(clicks, simulate.p.value=FALSE)"
   ]
  },
  {
   "cell_type": "markdown",
   "metadata": {},
   "source": [
    "## Figure chi-sq distribution"
   ]
  },
  {
   "cell_type": "code",
   "execution_count": 19,
   "metadata": {
    "execution": {
     "iopub.execute_input": "2021-07-31T15:52:25.921089Z",
     "iopub.status.busy": "2021-07-31T15:52:25.919900Z",
     "iopub.status.idle": "2021-07-31T15:52:26.151902Z",
     "shell.execute_reply": "2021-07-31T15:52:26.151109Z"
    }
   },
   "outputs": [
    {
     "data": {
      "image/png": "[encoded data removed]",
      "text/plain": [
       "plot without title"
      ]
     },
     "metadata": {
      "image/png": {
       "height": 420,
       "width": 420
      }
     },
     "output_type": "display_data"
    }
   ],
   "source": [
    "x <- seq(1, 30, length=100)\n",
    "chi <- data.frame(df = factor(rep(c(1, 2, 5, 20), rep(100, 4))),\n",
    "                  x = rep(x, 4),\n",
    "                  p = c(dchisq(x, 1), dchisq(x, 2), dchisq(x, 5), dchisq(x, 20)))\n",
    "\n",
    "graph <- ggplot(chi, aes(x=x, y=p)) +\n",
    "  geom_line(aes(linetype=df)) +\n",
    "  geom_text(aes(x=25, y=0.06, label='df=20'), size=2.5) +\n",
    "  geom_text(aes(x=8, y=0.1, label='df=5'), size=2.5) +\n",
    "  geom_text(aes(x=4, y=0.2, label='df=2'), size=2.5) +\n",
    "  geom_text(aes(x=1.5, y=0.05, label='df=1'), size=2.5) +\n",
    "  theme_bw() + theme(legend.position = \"none\") +\n",
    "  labs(x='Value of chi-square statistic', y='Probability')\n",
    "graph"
   ]
  },
  {
   "cell_type": "markdown",
   "metadata": {},
   "source": [
    "## Fisher's Exact Test"
   ]
  },
  {
   "cell_type": "code",
   "execution_count": 20,
   "metadata": {
    "execution": {
     "iopub.execute_input": "2021-07-31T15:52:26.155754Z",
     "iopub.status.busy": "2021-07-31T15:52:26.154711Z",
     "iopub.status.idle": "2021-07-31T15:52:26.165985Z",
     "shell.execute_reply": "2021-07-31T15:52:26.164926Z"
    }
   },
   "outputs": [
    {
     "data": {
      "text/plain": [
       "\n",
       "\tFisher's Exact Test for Count Data\n",
       "\n",
       "data:  clicks\n",
       "p-value = 0.4824\n",
       "alternative hypothesis: two.sided\n"
      ]
     },
     "metadata": {},
     "output_type": "display_data"
    }
   ],
   "source": [
    "fisher.test(clicks)"
   ]
  },
  {
   "cell_type": "markdown",
   "metadata": {},
   "source": [
    "### Scientific Fraud"
   ]
  },
  {
   "cell_type": "code",
   "execution_count": 21,
   "metadata": {
    "execution": {
     "iopub.execute_input": "2021-07-31T15:52:26.170258Z",
     "iopub.status.busy": "2021-07-31T15:52:26.169138Z",
     "iopub.status.idle": "2021-07-31T15:52:26.306650Z",
     "shell.execute_reply": "2021-07-31T15:52:26.305792Z"
    }
   },
   "outputs": [
    {
     "data": {
      "image/png": "[encoded data removed]",
      "text/plain": [
       "plot without title"
      ]
     },
     "metadata": {
      "image/png": {
       "height": 420,
       "width": 420
      }
     },
     "output_type": "display_data"
    }
   ],
   "source": [
    "## Code for Figure 8\n",
    "imanishi$Digit <- factor(imanishi$Digit)\n",
    "\n",
    "graph <- ggplot(imanishi, aes(x=Digit, y=Frequency)) +\n",
    "  geom_bar(stat='identity') +\n",
    "  theme_bw()\n",
    "graph"
   ]
  },
  {
   "cell_type": "markdown",
   "metadata": {},
   "source": [
    "# Power and Sample Size\n",
    "## Sample Size"
   ]
  },
  {
   "cell_type": "code",
   "execution_count": 22,
   "metadata": {
    "execution": {
     "iopub.execute_input": "2021-07-31T15:52:26.310799Z",
     "iopub.status.busy": "2021-07-31T15:52:26.309775Z",
     "iopub.status.idle": "2021-07-31T15:52:26.387965Z",
     "shell.execute_reply": "2021-07-31T15:52:26.321964Z"
    }
   },
   "outputs": [
    {
     "data": {
      "text/plain": [
       "\n",
       "     Difference of proportion power calculation for binomial distribution (arcsine transformation) \n",
       "\n",
       "              h = 0.01029785\n",
       "              n = 116601.7\n",
       "      sig.level = 0.05\n",
       "          power = 0.8\n",
       "    alternative = greater\n",
       "\n",
       "NOTE: same sample sizes\n"
      ]
     },
     "metadata": {},
     "output_type": "display_data"
    }
   ],
   "source": [
    "effect_size = ES.h(p1=0.0121, p2=0.011)\n",
    "pwr.2p.test(h=effect_size, sig.level=0.05, power=0.8, alternative='greater')"
   ]
  },
  {
   "cell_type": "code",
   "execution_count": 23,
   "metadata": {
    "execution": {
     "iopub.execute_input": "2021-07-31T15:52:26.393456Z",
     "iopub.status.busy": "2021-07-31T15:52:26.392124Z",
     "iopub.status.idle": "2021-07-31T15:52:26.406954Z",
     "shell.execute_reply": "2021-07-31T15:52:26.405816Z"
    }
   },
   "outputs": [
    {
     "data": {
      "text/plain": [
       "\n",
       "     Difference of proportion power calculation for binomial distribution (arcsine transformation) \n",
       "\n",
       "              h = 0.04746819\n",
       "              n = 5487.731\n",
       "      sig.level = 0.05\n",
       "          power = 0.8\n",
       "    alternative = greater\n",
       "\n",
       "NOTE: same sample sizes\n"
      ]
     },
     "metadata": {},
     "output_type": "display_data"
    }
   ],
   "source": [
    "effect_size = ES.h(p1=0.0165, p2=0.011)\n",
    "pwr.2p.test(h=effect_size, sig.level=0.05, power=0.8, alternative='greater')"
   ]
  }
 ],
 "metadata": {
  "kernelspec": {
   "display_name": "R",
   "language": "R",
   "name": "ir"
  },
  "language_info": {
   "codemirror_mode": "r",
   "file_extension": ".r",
   "mimetype": "text/x-r-source",
   "name": "R",
   "pygments_lexer": "r",
   "version": "4.0.5"
  }
 },
 "nbformat": 4,
 "nbformat_minor": 2
}
